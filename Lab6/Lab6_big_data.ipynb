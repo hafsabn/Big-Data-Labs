{
  "nbformat": 4,
  "nbformat_minor": 0,
  "metadata": {
    "colab": {
      "provenance": []
    },
    "kernelspec": {
      "name": "python3",
      "display_name": "Python 3"
    },
    "language_info": {
      "name": "python"
    }
  },
  "cells": [
    {
      "cell_type": "code",
      "execution_count": null,
      "metadata": {
        "colab": {
          "base_uri": "https://localhost:8080/"
        },
        "id": "vs-mVOL6sQAp",
        "outputId": "aab3b95f-c0b4-41f7-af82-2490ae895ced"
      },
      "outputs": [
        {
          "output_type": "stream",
          "name": "stdout",
          "text": [
            "Requirement already satisfied: pyspark in /usr/local/lib/python3.11/dist-packages (3.5.5)\n",
            "Requirement already satisfied: py4j==0.10.9.7 in /usr/local/lib/python3.11/dist-packages (from pyspark) (0.10.9.7)\n"
          ]
        }
      ],
      "source": [
        "!pip install pyspark"
      ]
    },
    {
      "cell_type": "code",
      "source": [
        "!pip install graphframes"
      ],
      "metadata": {
        "colab": {
          "base_uri": "https://localhost:8080/"
        },
        "id": "f5-4JB2zshq6",
        "outputId": "7e726866-8648-49fc-ab0a-24ca8b9b86d8"
      },
      "execution_count": null,
      "outputs": [
        {
          "output_type": "stream",
          "name": "stdout",
          "text": [
            "Collecting graphframes\n",
            "  Downloading graphframes-0.6-py2.py3-none-any.whl.metadata (934 bytes)\n",
            "Requirement already satisfied: numpy in /usr/local/lib/python3.11/dist-packages (from graphframes) (2.0.2)\n",
            "Collecting nose (from graphframes)\n",
            "  Downloading nose-1.3.7-py3-none-any.whl.metadata (1.7 kB)\n",
            "Downloading graphframes-0.6-py2.py3-none-any.whl (18 kB)\n",
            "Downloading nose-1.3.7-py3-none-any.whl (154 kB)\n",
            "\u001b[2K   \u001b[90m━━━━━━━━━━━━━━━━━━━━━━━━━━━━━━━━━━━━━━━━\u001b[0m \u001b[32m154.7/154.7 kB\u001b[0m \u001b[31m5.0 MB/s\u001b[0m eta \u001b[36m0:00:00\u001b[0m\n",
            "\u001b[?25hInstalling collected packages: nose, graphframes\n",
            "Successfully installed graphframes-0.6 nose-1.3.7\n"
          ]
        }
      ]
    },
    {
      "cell_type": "code",
      "source": [
        "!curl -L -o \"/usr/local/lib/python3.6/dist-packages/pyspark/jars/graphframes-0.8.2-spark3.2-s_2.12.jar\" http://dl.bintray.com/spark-packages/maven/graphframes/graphframes/0.8.2-spark3.2-s_2.12/graphframes-0.8.2-spark3.2-s_2.12.jar"
      ],
      "metadata": {
        "colab": {
          "base_uri": "https://localhost:8080/"
        },
        "id": "7tYhrwc1si8p",
        "outputId": "9eb0a6d4-2db2-4bc8-e645-eadf7d9c1750"
      },
      "execution_count": null,
      "outputs": [
        {
          "output_type": "stream",
          "name": "stdout",
          "text": [
            "  % Total    % Received % Xferd  Average Speed   Time    Time     Time  Current\n",
            "                                 Dload  Upload   Total   Spent    Left  Speed\n",
            "100   164  100   164    0     0    915      0 --:--:-- --:--:-- --:--:--   916\n",
            "Warning: Failed to create the file \n",
            "Warning: /usr/local/lib/python3.6/dist-packages/pyspark/jars/graphframes-0.8.2-\n",
            "Warning: spark3.2-s_2.12.jar: No such file or directory\n",
            "100   146  100   146    0     0    260      0 --:--:-- --:--:-- --:--:--   260\n",
            "curl: (23) Failure writing output to destination\n"
          ]
        }
      ]
    },
    {
      "cell_type": "code",
      "source": [
        "from tqdm import tqdm\n",
        "import pandas as pd\n",
        "import glob\n",
        "import torch\n",
        "import torch.nn as nn\n",
        "from PIL import Image\n",
        "import torchvision.transforms as transforms\n",
        "import torchvision.models as models\n",
        "from google.colab import drive\n",
        "import os\n",
        "from graphframes import GraphFrame"
      ],
      "metadata": {
        "id": "zuh0UA5ksoq_"
      },
      "execution_count": null,
      "outputs": []
    },
    {
      "cell_type": "code",
      "source": [
        "import zipfile\n",
        "import os\n",
        "from google.colab import files\n",
        "uploaded = files.upload()\n",
        "# Unzip\n",
        "with zipfile.ZipFile(\"Lab6.zip\", 'r') as zip_ref:\n",
        "    zip_ref.extractall()"
      ],
      "metadata": {
        "colab": {
          "base_uri": "https://localhost:8080/",
          "height": 73
        },
        "id": "vQkNEC1Uti09",
        "outputId": "5702181d-afab-4272-f2c9-2cf8a4dfe6de"
      },
      "execution_count": null,
      "outputs": [
        {
          "output_type": "display_data",
          "data": {
            "text/plain": [
              "<IPython.core.display.HTML object>"
            ],
            "text/html": [
              "\n",
              "     <input type=\"file\" id=\"files-a874144f-9f3c-4d6d-b858-8c152d9b2d45\" name=\"files[]\" multiple disabled\n",
              "        style=\"border:none\" />\n",
              "     <output id=\"result-a874144f-9f3c-4d6d-b858-8c152d9b2d45\">\n",
              "      Upload widget is only available when the cell has been executed in the\n",
              "      current browser session. Please rerun this cell to enable.\n",
              "      </output>\n",
              "      <script>// Copyright 2017 Google LLC\n",
              "//\n",
              "// Licensed under the Apache License, Version 2.0 (the \"License\");\n",
              "// you may not use this file except in compliance with the License.\n",
              "// You may obtain a copy of the License at\n",
              "//\n",
              "//      http://www.apache.org/licenses/LICENSE-2.0\n",
              "//\n",
              "// Unless required by applicable law or agreed to in writing, software\n",
              "// distributed under the License is distributed on an \"AS IS\" BASIS,\n",
              "// WITHOUT WARRANTIES OR CONDITIONS OF ANY KIND, either express or implied.\n",
              "// See the License for the specific language governing permissions and\n",
              "// limitations under the License.\n",
              "\n",
              "/**\n",
              " * @fileoverview Helpers for google.colab Python module.\n",
              " */\n",
              "(function(scope) {\n",
              "function span(text, styleAttributes = {}) {\n",
              "  const element = document.createElement('span');\n",
              "  element.textContent = text;\n",
              "  for (const key of Object.keys(styleAttributes)) {\n",
              "    element.style[key] = styleAttributes[key];\n",
              "  }\n",
              "  return element;\n",
              "}\n",
              "\n",
              "// Max number of bytes which will be uploaded at a time.\n",
              "const MAX_PAYLOAD_SIZE = 100 * 1024;\n",
              "\n",
              "function _uploadFiles(inputId, outputId) {\n",
              "  const steps = uploadFilesStep(inputId, outputId);\n",
              "  const outputElement = document.getElementById(outputId);\n",
              "  // Cache steps on the outputElement to make it available for the next call\n",
              "  // to uploadFilesContinue from Python.\n",
              "  outputElement.steps = steps;\n",
              "\n",
              "  return _uploadFilesContinue(outputId);\n",
              "}\n",
              "\n",
              "// This is roughly an async generator (not supported in the browser yet),\n",
              "// where there are multiple asynchronous steps and the Python side is going\n",
              "// to poll for completion of each step.\n",
              "// This uses a Promise to block the python side on completion of each step,\n",
              "// then passes the result of the previous step as the input to the next step.\n",
              "function _uploadFilesContinue(outputId) {\n",
              "  const outputElement = document.getElementById(outputId);\n",
              "  const steps = outputElement.steps;\n",
              "\n",
              "  const next = steps.next(outputElement.lastPromiseValue);\n",
              "  return Promise.resolve(next.value.promise).then((value) => {\n",
              "    // Cache the last promise value to make it available to the next\n",
              "    // step of the generator.\n",
              "    outputElement.lastPromiseValue = value;\n",
              "    return next.value.response;\n",
              "  });\n",
              "}\n",
              "\n",
              "/**\n",
              " * Generator function which is called between each async step of the upload\n",
              " * process.\n",
              " * @param {string} inputId Element ID of the input file picker element.\n",
              " * @param {string} outputId Element ID of the output display.\n",
              " * @return {!Iterable<!Object>} Iterable of next steps.\n",
              " */\n",
              "function* uploadFilesStep(inputId, outputId) {\n",
              "  const inputElement = document.getElementById(inputId);\n",
              "  inputElement.disabled = false;\n",
              "\n",
              "  const outputElement = document.getElementById(outputId);\n",
              "  outputElement.innerHTML = '';\n",
              "\n",
              "  const pickedPromise = new Promise((resolve) => {\n",
              "    inputElement.addEventListener('change', (e) => {\n",
              "      resolve(e.target.files);\n",
              "    });\n",
              "  });\n",
              "\n",
              "  const cancel = document.createElement('button');\n",
              "  inputElement.parentElement.appendChild(cancel);\n",
              "  cancel.textContent = 'Cancel upload';\n",
              "  const cancelPromise = new Promise((resolve) => {\n",
              "    cancel.onclick = () => {\n",
              "      resolve(null);\n",
              "    };\n",
              "  });\n",
              "\n",
              "  // Wait for the user to pick the files.\n",
              "  const files = yield {\n",
              "    promise: Promise.race([pickedPromise, cancelPromise]),\n",
              "    response: {\n",
              "      action: 'starting',\n",
              "    }\n",
              "  };\n",
              "\n",
              "  cancel.remove();\n",
              "\n",
              "  // Disable the input element since further picks are not allowed.\n",
              "  inputElement.disabled = true;\n",
              "\n",
              "  if (!files) {\n",
              "    return {\n",
              "      response: {\n",
              "        action: 'complete',\n",
              "      }\n",
              "    };\n",
              "  }\n",
              "\n",
              "  for (const file of files) {\n",
              "    const li = document.createElement('li');\n",
              "    li.append(span(file.name, {fontWeight: 'bold'}));\n",
              "    li.append(span(\n",
              "        `(${file.type || 'n/a'}) - ${file.size} bytes, ` +\n",
              "        `last modified: ${\n",
              "            file.lastModifiedDate ? file.lastModifiedDate.toLocaleDateString() :\n",
              "                                    'n/a'} - `));\n",
              "    const percent = span('0% done');\n",
              "    li.appendChild(percent);\n",
              "\n",
              "    outputElement.appendChild(li);\n",
              "\n",
              "    const fileDataPromise = new Promise((resolve) => {\n",
              "      const reader = new FileReader();\n",
              "      reader.onload = (e) => {\n",
              "        resolve(e.target.result);\n",
              "      };\n",
              "      reader.readAsArrayBuffer(file);\n",
              "    });\n",
              "    // Wait for the data to be ready.\n",
              "    let fileData = yield {\n",
              "      promise: fileDataPromise,\n",
              "      response: {\n",
              "        action: 'continue',\n",
              "      }\n",
              "    };\n",
              "\n",
              "    // Use a chunked sending to avoid message size limits. See b/62115660.\n",
              "    let position = 0;\n",
              "    do {\n",
              "      const length = Math.min(fileData.byteLength - position, MAX_PAYLOAD_SIZE);\n",
              "      const chunk = new Uint8Array(fileData, position, length);\n",
              "      position += length;\n",
              "\n",
              "      const base64 = btoa(String.fromCharCode.apply(null, chunk));\n",
              "      yield {\n",
              "        response: {\n",
              "          action: 'append',\n",
              "          file: file.name,\n",
              "          data: base64,\n",
              "        },\n",
              "      };\n",
              "\n",
              "      let percentDone = fileData.byteLength === 0 ?\n",
              "          100 :\n",
              "          Math.round((position / fileData.byteLength) * 100);\n",
              "      percent.textContent = `${percentDone}% done`;\n",
              "\n",
              "    } while (position < fileData.byteLength);\n",
              "  }\n",
              "\n",
              "  // All done.\n",
              "  yield {\n",
              "    response: {\n",
              "      action: 'complete',\n",
              "    }\n",
              "  };\n",
              "}\n",
              "\n",
              "scope.google = scope.google || {};\n",
              "scope.google.colab = scope.google.colab || {};\n",
              "scope.google.colab._files = {\n",
              "  _uploadFiles,\n",
              "  _uploadFilesContinue,\n",
              "};\n",
              "})(self);\n",
              "</script> "
            ]
          },
          "metadata": {}
        },
        {
          "output_type": "stream",
          "name": "stdout",
          "text": [
            "Saving Lab6.zip to Lab6 (1).zip\n"
          ]
        }
      ]
    },
    {
      "cell_type": "code",
      "source": [
        "import pyspark\n",
        "from pyspark.sql import SparkSession\n",
        "\n",
        "spark = SparkSession.builder.master(\"local[*]\").config(\"spark.jars.packages\", \"graphframes:graphframes:0.8.2-spark3.2-s_2.12\").getOrCreate()"
      ],
      "metadata": {
        "id": "KygB_Pqutte7"
      },
      "execution_count": null,
      "outputs": []
    },
    {
      "cell_type": "code",
      "source": [
        "station_path = \"Lab6/station_data.csv\"\n",
        "station_data_df = spark.read.csv(station_path, header=True, inferSchema=True)\n",
        "\n",
        "station_data_df.printSchema()\n"
      ],
      "metadata": {
        "colab": {
          "base_uri": "https://localhost:8080/"
        },
        "id": "piAhR9v4t9E6",
        "outputId": "45b76ace-f7f9-4f36-e07b-23d15ec8850b"
      },
      "execution_count": null,
      "outputs": [
        {
          "output_type": "stream",
          "name": "stdout",
          "text": [
            "root\n",
            " |-- station_id: integer (nullable = true)\n",
            " |-- name: string (nullable = true)\n",
            " |-- lat: double (nullable = true)\n",
            " |-- long: double (nullable = true)\n",
            " |-- dockcount: integer (nullable = true)\n",
            " |-- landmark: string (nullable = true)\n",
            " |-- installation: string (nullable = true)\n",
            "\n"
          ]
        }
      ]
    },
    {
      "cell_type": "code",
      "source": [
        "trip_path = \"Lab6/trip_data.csv\"\n",
        "trip_data_df = spark.read.csv(trip_path, header=True, inferSchema=True)\n",
        "\n",
        "trip_data_df.printSchema()"
      ],
      "metadata": {
        "colab": {
          "base_uri": "https://localhost:8080/"
        },
        "id": "p5LnLvceuzXC",
        "outputId": "34693309-f5e9-49d1-eacd-45bd86feae8b"
      },
      "execution_count": null,
      "outputs": [
        {
          "output_type": "stream",
          "name": "stdout",
          "text": [
            "root\n",
            " |-- Trip ID: integer (nullable = true)\n",
            " |-- Duration: integer (nullable = true)\n",
            " |-- Start Date: string (nullable = true)\n",
            " |-- Start Station: string (nullable = true)\n",
            " |-- Start Terminal: integer (nullable = true)\n",
            " |-- End Date: string (nullable = true)\n",
            " |-- End Station: string (nullable = true)\n",
            " |-- End Terminal: integer (nullable = true)\n",
            " |-- Bike #: integer (nullable = true)\n",
            " |-- Subscriber Type: string (nullable = true)\n",
            " |-- Zip Code: integer (nullable = true)\n",
            "\n"
          ]
        }
      ]
    },
    {
      "cell_type": "code",
      "source": [
        "station_data_df = station_data_df.withColumnRenamed('name', 'id')"
      ],
      "metadata": {
        "id": "7oFWd47ru5ig"
      },
      "execution_count": null,
      "outputs": []
    },
    {
      "cell_type": "code",
      "source": [
        "trip_data_df = trip_data_df.withColumnRenamed('Start Station', 'src').withColumnRenamed('End Station', 'dst')"
      ],
      "metadata": {
        "id": "Aw28bqCXvJen"
      },
      "execution_count": null,
      "outputs": []
    },
    {
      "cell_type": "code",
      "source": [
        "graph = GraphFrame(station_data_df, trip_data_df)\n",
        "\n",
        "# vertex table == station data\n",
        "# edge table == trip data"
      ],
      "metadata": {
        "colab": {
          "base_uri": "https://localhost:8080/"
        },
        "id": "Mw16pIFjvM5L",
        "outputId": "e6c8988e-4234-4fac-cee4-52e8e74fa570"
      },
      "execution_count": null,
      "outputs": [
        {
          "output_type": "stream",
          "name": "stderr",
          "text": [
            "/usr/local/lib/python3.11/dist-packages/pyspark/sql/dataframe.py:168: UserWarning: DataFrame.sql_ctx is an internal property, and will be removed in future releases. Use DataFrame.sparkSession instead.\n",
            "  warnings.warn(\n"
          ]
        }
      ]
    },
    {
      "cell_type": "code",
      "source": [
        "#Return the number of trips made between each source and destination, sorted in descending order (based on the number of trips).\n",
        "trip_counts = graph.edges.groupBy(\"src\", \"dst\").count().orderBy(\"count\", ascending=False)\n",
        "\n",
        "trip_counts.show()"
      ],
      "metadata": {
        "colab": {
          "base_uri": "https://localhost:8080/"
        },
        "id": "xLsbm6C6vYUQ",
        "outputId": "92105773-eb5a-47f7-85a1-080ade9076b5"
      },
      "execution_count": null,
      "outputs": [
        {
          "output_type": "stream",
          "name": "stdout",
          "text": [
            "+--------------------+--------------------+-----+\n",
            "|                 src|                 dst|count|\n",
            "+--------------------+--------------------+-----+\n",
            "|San Francisco Cal...|     Townsend at 7th|    4|\n",
            "|       5th at Howard|San Francisco Cal...|    3|\n",
            "|San Francisco Cal...|  Powell Street BART|    2|\n",
            "|     2nd at Townsend|   Market at Sansome|    2|\n",
            "|     Spear at Folsom|     2nd at Townsend|    2|\n",
            "|   Market at Sansome|Broadway St at Ba...|    2|\n",
            "|    Davis at Jackson|Embarcadero at Sa...|    2|\n",
            "|San Francisco Cal...|   2nd at South Park|    2|\n",
            "|   Steuart at Market|San Francisco Cal...|    2|\n",
            "|       Market at 4th|San Francisco Cal...|    2|\n",
            "|Embarcadero at Fo...|Embarcadero at Sa...|    2|\n",
            "|Mountain View Cal...|Rengstorff Avenue...|    1|\n",
            "|    Davis at Jackson|Temporary Transba...|    1|\n",
            "|       5th at Howard|     Townsend at 7th|    1|\n",
            "|   Market at Sansome|South Van Ness at...|    1|\n",
            "|     Beale at Market|Temporary Transba...|    1|\n",
            "|     2nd at Townsend|Powell at Post (U...|    1|\n",
            "|   Market at Sansome|     Clay at Battery|    1|\n",
            "|   2nd at South Park|       Howard at 2nd|    1|\n",
            "|Embarcadero at Sa...|   Steuart at Market|    1|\n",
            "+--------------------+--------------------+-----+\n",
            "only showing top 20 rows\n",
            "\n"
          ]
        }
      ]
    },
    {
      "cell_type": "code",
      "source": [
        "# Return the number of trips that start or end at the station \"Townsend at 7th\", sorted in descending order (based on the number of trips).\n",
        "graph.edges.filter('src = \"Townsend at 7th\" or dst == \"Townsend at 7th\"').groupBy(\"src\", \"dst\").count().orderBy(\"count\", ascending=False)\n",
        "trip_counts.show()"
      ],
      "metadata": {
        "colab": {
          "base_uri": "https://localhost:8080/"
        },
        "id": "AheAdp_WviEK",
        "outputId": "8103f235-729f-4854-f588-ccbdc6a30918"
      },
      "execution_count": null,
      "outputs": [
        {
          "output_type": "stream",
          "name": "stdout",
          "text": [
            "+--------------------+--------------------+-----+\n",
            "|                 src|                 dst|count|\n",
            "+--------------------+--------------------+-----+\n",
            "|San Francisco Cal...|     Townsend at 7th|    4|\n",
            "|       5th at Howard|San Francisco Cal...|    3|\n",
            "|San Francisco Cal...|  Powell Street BART|    2|\n",
            "|     2nd at Townsend|   Market at Sansome|    2|\n",
            "|     Spear at Folsom|     2nd at Townsend|    2|\n",
            "|   Market at Sansome|Broadway St at Ba...|    2|\n",
            "|    Davis at Jackson|Embarcadero at Sa...|    2|\n",
            "|San Francisco Cal...|   2nd at South Park|    2|\n",
            "|   Steuart at Market|San Francisco Cal...|    2|\n",
            "|       Market at 4th|San Francisco Cal...|    2|\n",
            "|Embarcadero at Fo...|Embarcadero at Sa...|    2|\n",
            "|Mountain View Cal...|Rengstorff Avenue...|    1|\n",
            "|    Davis at Jackson|Temporary Transba...|    1|\n",
            "|       5th at Howard|     Townsend at 7th|    1|\n",
            "|   Market at Sansome|South Van Ness at...|    1|\n",
            "|     Beale at Market|Temporary Transba...|    1|\n",
            "|     2nd at Townsend|Powell at Post (U...|    1|\n",
            "|   Market at Sansome|     Clay at Battery|    1|\n",
            "|   2nd at South Park|       Howard at 2nd|    1|\n",
            "|Embarcadero at Sa...|   Steuart at Market|    1|\n",
            "+--------------------+--------------------+-----+\n",
            "only showing top 20 rows\n",
            "\n"
          ]
        }
      ]
    },
    {
      "cell_type": "code",
      "source": [
        "# Return the vertices that have never been a destination for a trip starting from \"Spear at Folsom\".\n",
        "# 1. Get the destinations of trips starting from \"Spear at Folsom\"\n",
        "destinations_from_spear = trip_data_df.filter(trip_data_df.src == \"Spear at Folsom\").select(\"dst\").distinct()\n",
        "\n",
        "# 2. Get all station IDs (vertices)\n",
        "all_stations = station_data_df.select(\"id\")\n",
        "\n",
        "# 3. Subtract the destinations to find stations never reached from \"Spear at Folsom\"\n",
        "never_reached = all_stations.subtract(destinations_from_spear)\n",
        "\n",
        "# 4. Join to get full station info (optional)\n",
        "never_reached_vertices = station_data_df.join(never_reached, station_data_df.id == never_reached.id)\n",
        "\n",
        "never_reached_vertices.show()\n"
      ],
      "metadata": {
        "colab": {
          "base_uri": "https://localhost:8080/"
        },
        "id": "rCG6dtfjvpr7",
        "outputId": "5caa753f-65b6-4a6d-e182-1ea084ffe619"
      },
      "execution_count": null,
      "outputs": [
        {
          "output_type": "stream",
          "name": "stdout",
          "text": [
            "+----------+--------------------+---------+-----------+---------+------------+------------+--------------------+\n",
            "|station_id|                  id|      lat|       long|dockcount|    landmark|installation|                  id|\n",
            "+----------+--------------------+---------+-----------+---------+------------+------------+--------------------+\n",
            "|         2|San Jose Diridon ...|37.329732|-121.901782|       27|    San Jose|    8/6/2013|San Jose Diridon ...|\n",
            "|         3|San Jose Civic Ce...|37.330698|-121.888979|       15|    San Jose|    8/5/2013|San Jose Civic Ce...|\n",
            "|         4|Santa Clara at Al...|37.333988|-121.894902|       11|    San Jose|    8/6/2013|Santa Clara at Al...|\n",
            "|         5|    Adobe on Almaden|37.331415|  -121.8932|       19|    San Jose|    8/5/2013|    Adobe on Almaden|\n",
            "|         6|    San Pedro Square|37.336721|-121.894074|       15|    San Jose|    8/7/2013|    San Pedro Square|\n",
            "|         7|Paseo de San Antonio|37.333798|-121.886943|       15|    San Jose|    8/7/2013|Paseo de San Antonio|\n",
            "|         8| San Salvador at 1st|37.330165|-121.885831|       15|    San Jose|    8/5/2013| San Salvador at 1st|\n",
            "|         9|           Japantown|37.348742|-121.894715|       15|    San Jose|    8/5/2013|           Japantown|\n",
            "|        10|  San Jose City Hall|37.337391|-121.886995|       15|    San Jose|    8/6/2013|  San Jose City Hall|\n",
            "|        11|         MLK Library|37.335885| -121.88566|       19|    San Jose|    8/6/2013|         MLK Library|\n",
            "|        12|SJSU 4th at San C...|37.332808|-121.883891|       19|    San Jose|    8/7/2013|SJSU 4th at San C...|\n",
            "|        13|       St James Park|37.339301|-121.889937|       15|    San Jose|    8/6/2013|       St James Park|\n",
            "|        14|Arena Green / SAP...|37.332692|-121.900084|       19|    San Jose|    8/5/2013|Arena Green / SAP...|\n",
            "|        16|SJSU - San Salvad...|37.333955|-121.877349|       15|    San Jose|    8/7/2013|SJSU - San Salvad...|\n",
            "|        21|   Franklin at Maple|37.481758|-122.226904|       15|Redwood City|   8/12/2013|   Franklin at Maple|\n",
            "|        22|Redwood City Calt...|37.486078|-122.232089|       25|Redwood City|   8/15/2013|Redwood City Calt...|\n",
            "|        23|San Mateo County ...|37.487616|-122.229951|       15|Redwood City|   8/15/2013|San Mateo County ...|\n",
            "|        24|Redwood City Publ...|37.484219|-122.227424|       15|Redwood City|   8/12/2013|Redwood City Publ...|\n",
            "|        25|Stanford in Redwo...| 37.48537|-122.203288|       15|Redwood City|   8/12/2013|Stanford in Redwo...|\n",
            "|        26|Redwood City Medi...|37.487682|-122.223492|       15|Redwood City|   8/12/2013|Redwood City Medi...|\n",
            "+----------+--------------------+---------+-----------+---------+------------+------------+--------------------+\n",
            "only showing top 20 rows\n",
            "\n"
          ]
        }
      ]
    },
    {
      "cell_type": "code",
      "source": [
        "#8) Return the station with the maximum number of incoming trips.\n",
        "graph.inDegrees.orderBy(\"inDegree\", ascending=False).limit(1).show()"
      ],
      "metadata": {
        "colab": {
          "base_uri": "https://localhost:8080/"
        },
        "id": "IICpoRO4vxUd",
        "outputId": "a91e713a-8536-4d6f-a0ab-f5f553322a67"
      },
      "execution_count": null,
      "outputs": [
        {
          "output_type": "stream",
          "name": "stderr",
          "text": [
            "/usr/local/lib/python3.11/dist-packages/pyspark/sql/dataframe.py:147: UserWarning: DataFrame constructor is internal. Do not directly use it.\n",
            "  warnings.warn(\"DataFrame constructor is internal. Do not directly use it.\")\n"
          ]
        },
        {
          "output_type": "stream",
          "name": "stdout",
          "text": [
            "+--------------------+--------+\n",
            "|                  id|inDegree|\n",
            "+--------------------+--------+\n",
            "|San Francisco Cal...|       9|\n",
            "+--------------------+--------+\n",
            "\n"
          ]
        }
      ]
    },
    {
      "cell_type": "code",
      "source": [
        "#9) Return the trip with the longest duration.\n",
        "graph.edges.orderBy('Duration', ascending=False).limit(1).show()"
      ],
      "metadata": {
        "colab": {
          "base_uri": "https://localhost:8080/"
        },
        "id": "bzI2ACyvv1Le",
        "outputId": "a2e7d7ee-8bf1-4dda-a0d5-d077bb5e7b2b"
      },
      "execution_count": null,
      "outputs": [
        {
          "output_type": "stream",
          "name": "stdout",
          "text": [
            "+-------+--------+---------------+--------------------+--------------+---------------+--------------------+------------+------+---------------+--------+\n",
            "|Trip ID|Duration|     Start Date|                 src|Start Terminal|       End Date|                 dst|End Terminal|Bike #|Subscriber Type|Zip Code|\n",
            "+-------+--------+---------------+--------------------+--------------+---------------+--------------------+------------+------+---------------+--------+\n",
            "| 913386|    1808|8/31/2015 20:23|Embarcadero at Br...|            54|8/31/2015 20:53|Harry Bridges Pla...|          50|   524|     Subscriber|   94105|\n",
            "+-------+--------+---------------+--------------------+--------------+---------------+--------------------+------------+------+---------------+--------+\n",
            "\n"
          ]
        }
      ]
    },
    {
      "cell_type": "code",
      "source": [
        "# 10)Create a subgraph that contains only the trips that start or end at \"Townsend at 7th\".\n",
        "graph_townsend = GraphFrame(station_data_df, trip_data_df.filter((trip_data_df['src'] == 'Townsend at 7th') | (trip_data_df['dst'] == 'Townsend at 7th')))\n",
        "\n",
        "# vertices == stations\n",
        "# edges == trips"
      ],
      "metadata": {
        "id": "Aq3eF-pVv3-p"
      },
      "execution_count": null,
      "outputs": []
    },
    {
      "cell_type": "code",
      "source": [
        "# 11) Return all paths that form a \"triangle\" pattern between three stations.\n",
        "graph.find(\"(a)-[]->(b); (b)-[]->(c); (c)-[]->(a)\").show(5)"
      ],
      "metadata": {
        "colab": {
          "base_uri": "https://localhost:8080/"
        },
        "id": "pX1gS_7Dv69t",
        "outputId": "f65ba65b-6260-42c4-a5ed-3682f84e80ab"
      },
      "execution_count": null,
      "outputs": [
        {
          "output_type": "stream",
          "name": "stdout",
          "text": [
            "+--------------------+--------------------+--------------------+\n",
            "|                   a|                   b|                   c|\n",
            "+--------------------+--------------------+--------------------+\n",
            "|{49, Spear at Fol...|{69, San Francisc...|{61, 2nd at Towns...|\n",
            "|{49, Spear at Fol...|{69, San Francisc...|{65, Townsend at ...|\n",
            "|{49, Spear at Fol...|{69, San Francisc...|{64, 2nd at South...|\n",
            "|{49, Spear at Fol...|{69, San Francisc...|{64, 2nd at South...|\n",
            "|{49, Spear at Fol...|{69, San Francisc...|{65, Townsend at ...|\n",
            "+--------------------+--------------------+--------------------+\n",
            "only showing top 5 rows\n",
            "\n"
          ]
        }
      ]
    },
    {
      "cell_type": "code",
      "source": [
        "# 12) Return all paths that pass through three vertices and start from \"Townsend at 7th\".\n",
        "graph_townsend.find(\"(a)-[]->(b); (b)-[]->(c); (c)-[]->(d)\").filter(\"a.id = 'Townsend at 7th'\").show(5)"
      ],
      "metadata": {
        "colab": {
          "base_uri": "https://localhost:8080/"
        },
        "id": "tsg_deFlv9eg",
        "outputId": "e750771a-3799-4c5b-aa2e-8d484ae5380c"
      },
      "execution_count": null,
      "outputs": [
        {
          "output_type": "stream",
          "name": "stderr",
          "text": [
            "/usr/local/lib/python3.11/dist-packages/pyspark/sql/dataframe.py:147: UserWarning: DataFrame constructor is internal. Do not directly use it.\n",
            "  warnings.warn(\"DataFrame constructor is internal. Do not directly use it.\")\n"
          ]
        },
        {
          "output_type": "stream",
          "name": "stdout",
          "text": [
            "+--------------------+--------------------+--------------------+--------------------+\n",
            "|                   a|                   b|                   c|                   d|\n",
            "+--------------------+--------------------+--------------------+--------------------+\n",
            "|{65, Townsend at ...|{49, Spear at Fol...|{65, Townsend at ...|{49, Spear at Fol...|\n",
            "|{65, Townsend at ...|{49, Spear at Fol...|{65, Townsend at ...|{50, Harry Bridge...|\n",
            "+--------------------+--------------------+--------------------+--------------------+\n",
            "\n"
          ]
        }
      ]
    }
  ]
}